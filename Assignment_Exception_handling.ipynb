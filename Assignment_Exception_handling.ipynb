{
 "cells": [
  {
   "cell_type": "code",
   "execution_count": 5,
   "metadata": {
    "collapsed": true
   },
   "outputs": [],
   "source": [
    "def askDiv():\n",
    "    try:\n",
    "        val = int(input(\"Please enter an integer: \"))\n",
    "        val = val/0\n",
    "    except:\n",
    "        print (\"looks like it is not divisible by 0\")\n",
    "    finally:\n",
    "        print(\"Finally its done\")\n",
    "    print(val)"
   ]
  },
  {
   "cell_type": "code",
   "execution_count": 3,
   "metadata": {},
   "outputs": [
    {
     "name": "stdout",
     "output_type": "stream",
     "text": [
      "Please enter an integer: 5\n",
      "looks like it is not divisible by 0\n",
      "Finally its done\n",
      "5\n"
     ]
    }
   ],
   "source": [
    "askDiv()"
   ]
  },
  {
   "cell_type": "code",
   "execution_count": 6,
   "metadata": {},
   "outputs": [
    {
     "name": "stdout",
     "output_type": "stream",
     "text": [
      "Americans  play Baseball\n",
      "Americans  play Cricket\n",
      "Americans  watch Baseball\n",
      "Americans  watch Cricket\n",
      "Indians play Baseball\n",
      "Indians play Cricket\n",
      "Indians watch Baseball\n",
      "Indians watch Cricket\n"
     ]
    }
   ],
   "source": [
    "subjects=[\"Americans \",\"Indians\"]\n",
    "verbs=[\"play\",\"watch\"]\n",
    "objects=[\"Baseball\",\"Cricket\"]\n",
    "for subject in subjects:\n",
    "    for verb in verbs:\n",
    "        for object in objects:\n",
    "            print(subject+ \" \"+ verb + \" \"+ object)\n",
    "            \n"
   ]
  },
  {
   "cell_type": "code",
   "execution_count": null,
   "metadata": {
    "collapsed": true
   },
   "outputs": [],
   "source": []
  },
  {
   "cell_type": "code",
   "execution_count": null,
   "metadata": {
    "collapsed": true
   },
   "outputs": [],
   "source": []
  }
 ],
 "metadata": {
  "kernelspec": {
   "display_name": "Python 3",
   "language": "python",
   "name": "python3"
  },
  "language_info": {
   "codemirror_mode": {
    "name": "ipython",
    "version": 3
   },
   "file_extension": ".py",
   "mimetype": "text/x-python",
   "name": "python",
   "nbconvert_exporter": "python",
   "pygments_lexer": "ipython3",
   "version": "3.6.3"
  }
 },
 "nbformat": 4,
 "nbformat_minor": 2
}
